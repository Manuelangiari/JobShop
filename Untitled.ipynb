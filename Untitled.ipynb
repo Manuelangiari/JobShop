{
 "cells": [
  {
   "cell_type": "code",
   "execution_count": 2,
   "id": "52580bd5-e319-4198-a5f8-d88dbd95a0b1",
   "metadata": {
    "tags": []
   },
   "outputs": [
    {
     "name": "stdout",
     "output_type": "stream",
     "text": [
      "Job Schedule:\n",
      "Job 1, Task 1: Start Time = 0, End Time = 3\n",
      "Job 1, Task 2: Start Time = 3, End Time = 5\n"
     ]
    }
   ],
   "source": []
  },
  {
   "cell_type": "code",
   "execution_count": null,
   "id": "b54d2ff0-a359-4739-b16c-59db4b65988b",
   "metadata": {},
   "outputs": [],
   "source": []
  }
 ],
 "metadata": {
  "kernelspec": {
   "display_name": "Python 3 (ipykernel)",
   "language": "python",
   "name": "python3"
  },
  "language_info": {
   "codemirror_mode": {
    "name": "ipython",
    "version": 3
   },
   "file_extension": ".py",
   "mimetype": "text/x-python",
   "name": "python",
   "nbconvert_exporter": "python",
   "pygments_lexer": "ipython3",
   "version": "3.12.2"
  }
 },
 "nbformat": 4,
 "nbformat_minor": 5
}
